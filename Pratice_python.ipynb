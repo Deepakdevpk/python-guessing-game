{
  "nbformat": 4,
  "nbformat_minor": 0,
  "metadata": {
    "colab": {
      "provenance": []
    },
    "kernelspec": {
      "name": "python3",
      "display_name": "Python 3"
    },
    "language_info": {
      "name": "python"
    }
  },
  "cells": [
    {
      "cell_type": "code",
      "source": [
        "import random\n",
        "\n",
        "def number_guessing_game():\n",
        "    num = random.randint(1,50)\n",
        "    attempts = 7\n",
        "\n",
        "    print(\"Guess a number between 1 and 7\")\n",
        "\n",
        "    while attempts > 0:\n",
        "        guess = int(input(\"Your guess: \"))\n",
        "\n",
        "        if guess == num:\n",
        "            print(\"You win!\")\n",
        "            return\n",
        "        elif guess < num:\n",
        "            print(\"Too low!\")\n",
        "        else:\n",
        "            print(\"Too high!\")\n",
        "\n",
        "        attempts -= 1\n",
        "        print(f\"Tries left: {attempts}\")\n",
        "\n",
        "    print(f\"Game over! The number was {num}.\")\n",
        "\n",
        "number_guessing_game()"
      ],
      "metadata": {
        "colab": {
          "base_uri": "https://localhost:8080/"
        },
        "id": "w9t3eQl-Bo78",
        "outputId": "b10636c2-c053-4c8a-c215-16cf9a330399"
      },
      "execution_count": 21,
      "outputs": [
        {
          "output_type": "stream",
          "name": "stdout",
          "text": [
            "Guess a number between 1 and 7\n",
            "Your guess: 5\n",
            "Too low!\n",
            "Tries left: 6\n",
            "Your guess: 6\n",
            "Too low!\n",
            "Tries left: 5\n",
            "Your guess: 7\n",
            "Too low!\n",
            "Tries left: 4\n",
            "Your guess: 9\n",
            "Too low!\n",
            "Tries left: 3\n",
            "Your guess: 1\n",
            "Too low!\n",
            "Tries left: 2\n",
            "Your guess: 1\n",
            "Too low!\n",
            "Tries left: 1\n",
            "Your guess: 1\n",
            "Too low!\n",
            "Tries left: 0\n",
            "Game over! The number was 19.\n"
          ]
        }
      ]
    },
    {
      "cell_type": "code",
      "source": [],
      "metadata": {
        "id": "Q7epoEabEZvx"
      },
      "execution_count": null,
      "outputs": []
    }
  ]
}